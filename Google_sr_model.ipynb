{
 "cells": [
  {
   "cell_type": "markdown",
   "id": "46a2ac43",
   "metadata": {},
   "source": [
    "## Installations"
   ]
  },
  {
   "cell_type": "code",
   "execution_count": null,
   "id": "f64aac21",
   "metadata": {
    "scrolled": true
   },
   "outputs": [],
   "source": [
    "pip install SpeechRecognition"
   ]
  },
  {
   "cell_type": "code",
   "execution_count": null,
   "id": "afb40ce6",
   "metadata": {
    "scrolled": true
   },
   "outputs": [],
   "source": [
    "pip install pyaudio"
   ]
  },
  {
   "cell_type": "code",
   "execution_count": null,
   "id": "7bbae502",
   "metadata": {},
   "outputs": [],
   "source": [
    "pip install pydub"
   ]
  },
  {
   "cell_type": "code",
   "execution_count": null,
   "id": "7cfda65c",
   "metadata": {
    "scrolled": true
   },
   "outputs": [],
   "source": [
    "conda install -c conda-forge speechrecognition"
   ]
  },
  {
   "cell_type": "code",
   "execution_count": null,
   "id": "2f23e000",
   "metadata": {
    "scrolled": true
   },
   "outputs": [],
   "source": [
    "conda install -c \"conda-forge/label/cf201901\" speechrecognition"
   ]
  },
  {
   "cell_type": "code",
   "execution_count": null,
   "id": "f468f7c0",
   "metadata": {
    "scrolled": true
   },
   "outputs": [],
   "source": [
    "conda install -c \"conda-forge/label/cf202003\" speechrecognition"
   ]
  },
  {
   "cell_type": "code",
   "execution_count": null,
   "id": "8dda37e5",
   "metadata": {},
   "outputs": [],
   "source": [
    "pip install librosa\n"
   ]
  },
  {
   "cell_type": "markdown",
   "id": "c6c43ab2",
   "metadata": {},
   "source": [
    "## Imports"
   ]
  },
  {
   "cell_type": "code",
   "execution_count": null,
   "id": "751bb485",
   "metadata": {},
   "outputs": [],
   "source": [
    "import pandas as pd\n",
    "import numpy as np\n",
    "import matplotlib.pylab as plt \n",
    "import seaborn as sns\n",
    "from glob import glob\n",
    "from itertools import cycle\n",
    "\n",
    "import librosa\n",
    "import librosa.display\n",
    "import IPython.display as ipd\n",
    "\n",
    "sns.set_theme(style=\"white\", palette=None)\n",
    "color_pal = plt.rcParams[\"axes.prop_cycle\"].by_key()[\"color\"]\n",
    "color_cycle = cycle(plt.rcParams[\"axes.prop_cycle\"].by_key()[\"color\"])"
   ]
  },
  {
   "cell_type": "code",
   "execution_count": null,
   "id": "4f25527d",
   "metadata": {},
   "outputs": [],
   "source": [
    "import speech_recognition as sr"
   ]
  },
  {
   "cell_type": "code",
   "execution_count": null,
   "id": "7dd92de9",
   "metadata": {},
   "outputs": [],
   "source": [
    "sr.__version__ #Checking version should be 3.8.1"
   ]
  },
  {
   "cell_type": "markdown",
   "id": "19f76803",
   "metadata": {},
   "source": [
    "## Instantiating recognizer class"
   ]
  },
  {
   "cell_type": "code",
   "execution_count": null,
   "id": "831f776b",
   "metadata": {},
   "outputs": [],
   "source": [
    "r = sr.Recognizer() "
   ]
  },
  {
   "cell_type": "markdown",
   "id": "f328291b",
   "metadata": {},
   "source": [
    "## Load audio file"
   ]
  },
  {
   "cell_type": "code",
   "execution_count": null,
   "id": "7f7c4db2",
   "metadata": {},
   "outputs": [],
   "source": [
    "\n",
    "audio_files_ = (r'') #Set working directory on local machine to folder containing captcha. Include captcha name and extension\n",
    "audio_files = glob(audio_files_)"
   ]
  },
  {
   "cell_type": "markdown",
   "id": "9eda9eef",
   "metadata": {},
   "source": [
    "## Play audio files"
   ]
  },
  {
   "cell_type": "code",
   "execution_count": null,
   "id": "272a0184",
   "metadata": {},
   "outputs": [],
   "source": [
    "\n",
    "ipd.Audio(audio_files[0])"
   ]
  },
  {
   "cell_type": "markdown",
   "id": "ba375442",
   "metadata": {},
   "source": [
    "## Speech Recognition"
   ]
  },
  {
   "cell_type": "code",
   "execution_count": null,
   "id": "953fd0bc",
   "metadata": {},
   "outputs": [],
   "source": [
    "output = sr.AudioFile(audio_files_) \n",
    "\n",
    "\n",
    "with output as source:\n",
    "    #r.adjust_for_ambient_noise(source) \n",
    "    #audio = r.adjust_for_ambient_noise(source)\n",
    "    audio = r.record(source) #, duration = 10) #can also use audio = r.listen(source) or r.record(source)\n",
    "    try:\n",
    "        text = r.recognize_google(audio)\n",
    "        \n",
    "        text = text.upper()\n",
    "        \n",
    "        ### Correcting mistakes\n",
    "        \n",
    "        if \".\" in text:\n",
    "            text = text.replace(\".\",\"\")\n",
    "        \n",
    "        if \"&\" in text:\n",
    "            text = text.replace(\"&\",\"\")\n",
    "        \n",
    "        if \" \" in text:\n",
    "            text = text.replace(\" \",\"\")\n",
    "            \n",
    "        if \"-\" in text:\n",
    "            text = text.replace(\"-\",\"\")\n",
    "        \n",
    "        if \"THREE\" in text:\n",
    "            text = text.replace(\"THREE\",\"3\")\n",
    "            \n",
    "        if \"THOR\" in text:\n",
    "            text = text.replace(\"THOR\",\"4\")\n",
    "        \n",
    "        if \"PORT\" in text:\n",
    "            text = text.replace(\"PORT\",\"4\")\n",
    "            \n",
    "        if \"FOR\" in text:\n",
    "            text = text.replace(\"FOR\",\"4\")\n",
    "            \n",
    "        if \"GORE\" in text:\n",
    "            text = text.replace(\"GORE\",\"4\")\n",
    "        \n",
    "        if \"BY\" in text:\n",
    "            text = text.replace(\"BY\",\"5\")\n",
    "        \n",
    "        if \"THAI\" in text:\n",
    "            text = text.replace(\"THAI\",\"5\")\n",
    "            \n",
    "        if \"SEX\" in text:\n",
    "            text = text.replace(\"SEX\",\"6\")\n",
    "        \n",
    "        if \"HEY\" in text:\n",
    "            text = text.replace(\"HEY\",\"8\")\n",
    "        \n",
    "        if \"FEET\" in text:\n",
    "            text = text.replace(\"FEET\",\"8\")\n",
    "        \n",
    "        if \"NIGHTS\" or \"NIGHT\" in text:\n",
    "            text = text.replace(\"NIGHTS\" and \"NIGHT\",\"9\")\n",
    "        \n",
    "        if \"SI\" in text:\n",
    "            text = text.replace(\"SI\",\"C\")\n",
    "        \n",
    "        if \"CI\" in text:\n",
    "            text = text.replace(\"CI\",\"C\")\n",
    "            \n",
    "        if \"SEA\" in text:\n",
    "            text = text.replace(\"SEA\",\"C\")\n",
    "       \n",
    "        if \"JAY\" in text:\n",
    "            text = text.replace(\"JAY\",\"J\")\n",
    "            \n",
    "        if \"YEAH\" in text:\n",
    "            text = text.replace(\"YEAH\",\"J\")\n",
    "        \n",
    "        if \"KAY\" in text:\n",
    "            text = text.replace(\"KAY\",\"K\")\n",
    "        \n",
    "        if \"TE\" in text:\n",
    "            text = text.replace(\"TE\",\"T\")\n",
    "        \n",
    "        if \"TY\" in text:\n",
    "            text = text.replace(\"TY\",\"T\")\n",
    "            \n",
    "        if \"OUR\" in text:\n",
    "            text = text.replace(\"OUR\",\"R\")\n",
    "            \n",
    "        if \"EM\" in text:\n",
    "            text = text.replace(\"EM\",\"M\")\n",
    "        \n",
    "        if \"AM\" in text:\n",
    "            text = text.replace(\"AM\",\"M\")\n",
    "            \n",
    "        if \"FIGHTS\" in text:\n",
    "            text = text.replace(\"FIGHTS\",\"5\")\n",
    "        \n",
    "        if \"AND\" in text:\n",
    "            text = text.replace(\"AND\",\"n\")\n",
    "        \n",
    "        if \"ARE\" in text:\n",
    "            text = text.replace(\"ARE\",\"R\")\n",
    "        \n",
    "        if \"RI\" in text:\n",
    "            text = text.replace(\"RI\",\"R\")\n",
    "            \n",
    "        if \"YOU\" in text:\n",
    "            text = text.replace(\"YOU\",\"U\")\n",
    "            \n",
    "        if \"NEW\" in text:\n",
    "            text = text.replace(\"NEW\",\"u\")\n",
    "        \n",
    "        if \"MOVIE\" in text:\n",
    "            text = text.replace(\"MOVIE\",\"v\")\n",
    "            \n",
    "        if \"WI\" in text:\n",
    "            text = text.replace(\"WI\",\"Y\")\n",
    "        \n",
    "        if \"YES\" in text:\n",
    "            text = text.replace(\"YES\",\"S\")\n",
    "            \n",
    "        if \"EGGS\" in text:\n",
    "            text = text.replace(\"EGGS\",\"X\")\n",
    "\n",
    "        if \"WHY\" in text:\n",
    "            text = text.replace(\"WHY\",\"Y\")\n",
    "            \n",
    "            \n",
    "        print(text)\n",
    "\n",
    "    except:\n",
    "        print(\"Could not understand audio\")\n",
    "    "
   ]
  },
  {
   "cell_type": "code",
   "execution_count": null,
   "id": "163fbfc9",
   "metadata": {},
   "outputs": [],
   "source": []
  },
  {
   "cell_type": "markdown",
   "id": "33c79bc7",
   "metadata": {},
   "source": [
    "## Visual Analysis"
   ]
  },
  {
   "cell_type": "code",
   "execution_count": null,
   "id": "23308c4b",
   "metadata": {},
   "outputs": [],
   "source": [
    "y, sr = librosa.load(audio_files[0]) #naming the audio file y\n",
    "print(f'y: {y[:10]}')\n",
    "print(f'shape y: {y.shape}')\n",
    "print(f'sample rate:{sr}')"
   ]
  },
  {
   "cell_type": "code",
   "execution_count": null,
   "id": "f453a09c",
   "metadata": {},
   "outputs": [],
   "source": [
    "#Plot the audio file visually\n",
    "pd.Series(y).plot(figsize=(10,5), lw=1, title=\"Raw audio file\")\n",
    "plt.show()"
   ]
  },
  {
   "cell_type": "code",
   "execution_count": null,
   "id": "bc80d2b8",
   "metadata": {},
   "outputs": [],
   "source": [
    "#r.energy_threshold = 20 #Sets the threshold of the model. The model will attempt to recognize all sound above this threshold only\n"
   ]
  },
  {
   "cell_type": "markdown",
   "id": "2398547e",
   "metadata": {},
   "source": [
    "### Trimming leading and trailing silence (dead air)"
   ]
  },
  {
   "cell_type": "code",
   "execution_count": null,
   "id": "9d552fa8",
   "metadata": {
    "scrolled": true
   },
   "outputs": [],
   "source": [
    "\n",
    "y_trimmed, _ = librosa.effects.trim(y, top_db=20)\n",
    "pd.Series(y_trimmed).plot(figsize=(10,5),\n",
    "                         lw=1,\n",
    "                         title='Raw Audio Trimmed',\n",
    "                         color=color_pal[2])\n",
    "\n",
    "plt.show()"
   ]
  },
  {
   "cell_type": "markdown",
   "id": "77a8c1f4",
   "metadata": {},
   "source": [
    "## Zoom in on specific section"
   ]
  },
  {
   "cell_type": "code",
   "execution_count": null,
   "id": "9e9f758a",
   "metadata": {
    "scrolled": true
   },
   "outputs": [],
   "source": [
    "#Zoom in\n",
    "\n",
    "pd.Series(y[20000:20500]).plot(figsize=(10,5), #change [:] to zoom in on a different part\n",
    "                         lw=1,\n",
    "                         title='Raw Audio Zoomed',\n",
    "                         color=color_pal[2])\n",
    "plt.show()"
   ]
  },
  {
   "cell_type": "markdown",
   "id": "093182ed",
   "metadata": {},
   "source": [
    "## Slowing the file down"
   ]
  },
  {
   "cell_type": "code",
   "execution_count": null,
   "id": "f5d32064",
   "metadata": {},
   "outputs": [],
   "source": [
    "y_slowed = librosa.effects.time_stretch(y, rate=0.5)"
   ]
  },
  {
   "cell_type": "code",
   "execution_count": null,
   "id": "493735b6",
   "metadata": {},
   "outputs": [],
   "source": [
    "type(y_slowed)"
   ]
  },
  {
   "cell_type": "code",
   "execution_count": null,
   "id": "0814d13b",
   "metadata": {},
   "outputs": [],
   "source": []
  },
  {
   "cell_type": "code",
   "execution_count": null,
   "id": "598d2f0b",
   "metadata": {},
   "outputs": [],
   "source": []
  },
  {
   "cell_type": "code",
   "execution_count": null,
   "id": "fbac30e1",
   "metadata": {},
   "outputs": [],
   "source": []
  },
  {
   "cell_type": "code",
   "execution_count": null,
   "id": "e17cea58",
   "metadata": {},
   "outputs": [],
   "source": [
    "D = librosa.stft(y)\n",
    "S_db = librosa.amplitude_to_db(np.abs(D), ref=np.max)\n",
    "S_db.shape"
   ]
  },
  {
   "cell_type": "markdown",
   "id": "a326c101",
   "metadata": {},
   "source": [
    "## Spectogram \n",
    "#### Can extract which frequencies are sounding at which time. \n",
    "#### Can be used to analyse specific sections of the track"
   ]
  },
  {
   "cell_type": "code",
   "execution_count": null,
   "id": "3c62c56f",
   "metadata": {},
   "outputs": [],
   "source": [
    "#Plotting the transformed audio data\n",
    "fig, ax = plt.subplots(figsize=(10,5))\n",
    "img = librosa.display.specshow(S_db,\n",
    "                              x_axis='time',\n",
    "                              y_axis='log',\n",
    "                              ax=ax)\n",
    "ax.set_title('Spectogram',fontsize=20)\n",
    "fig.colorbar(img, ax=ax, format=f'%0.2f')\n",
    "plt.show()"
   ]
  },
  {
   "cell_type": "code",
   "execution_count": null,
   "id": "06909fcd",
   "metadata": {},
   "outputs": [],
   "source": []
  }
 ],
 "metadata": {
  "kernelspec": {
   "display_name": "Python 3 (ipykernel)",
   "language": "python",
   "name": "python3"
  },
  "language_info": {
   "codemirror_mode": {
    "name": "ipython",
    "version": 3
   },
   "file_extension": ".py",
   "mimetype": "text/x-python",
   "name": "python",
   "nbconvert_exporter": "python",
   "pygments_lexer": "ipython3",
   "version": "3.9.7"
  }
 },
 "nbformat": 4,
 "nbformat_minor": 5
}
